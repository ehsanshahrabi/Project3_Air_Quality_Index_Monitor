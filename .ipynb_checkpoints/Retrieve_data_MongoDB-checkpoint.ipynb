{
 "cells": [
  {
   "cell_type": "code",
   "execution_count": 5,
   "id": "cb539f13",
   "metadata": {},
   "outputs": [],
   "source": [
    "from pymongo import MongoClient\n"
   ]
  },
  {
   "cell_type": "code",
   "execution_count": 6,
   "id": "bab0a283",
   "metadata": {},
   "outputs": [],
   "source": [
    "client = MongoClient(\"mongodb://localhost:27017/\")\n"
   ]
  },
  {
   "cell_type": "code",
   "execution_count": 7,
   "id": "7871b2de",
   "metadata": {},
   "outputs": [],
   "source": [
    "db = client[\"major_cities_airq\"]\n"
   ]
  },
  {
   "cell_type": "code",
   "execution_count": 8,
   "id": "40bb4172",
   "metadata": {},
   "outputs": [
    {
     "name": "stdout",
     "output_type": "stream",
     "text": [
      "{'_id': ObjectId('646ec669aa3ce74d176878c4'), 'aqi': 51, 'idx': 6078, 'attributions': [{'url': 'https://www.lanuv.nrw.de/luft/luft.htm', 'name': 'LANUV - State Agency for Nature, Environment and Consumer Protection of North Rhine Westphalia (Landesamt für Natur, Umwelt und Verbraucherschutz NRW)', 'logo': 'de-lanuv.png'}, {'url': 'http://www.eea.europa.eu/themes/air/', 'name': 'European Environment Agency', 'logo': 'Europe-EEA.png'}, {'url': 'https://waqi.info/', 'name': 'World Air Quality Index Project'}], 'city_geo': [51.523543, 7.483562], 'city_name': 'Dortmund Brackeler Straße, Germany', 'dominant_pol': 'pm25', 'iaqi': {'h': {'v': 95}, 'no2': {'v': 20.7}, 'p': {'v': 1025.7}, 'pm10': {'v': 19}, 'pm25': {'v': 51}, 't': {'v': 6.6}, 'w': {'v': 0.1}, 'wg': {'v': 0.5}}, 'time': {'s': '2023-05-25 01:00:00', 'tz': '+02:00', 'v': 1684976400, 'iso': '2023-05-25T01:00:00+02:00'}, 'forecast': {'daily': {'o3': [{'avg': 28, 'day': '2023-05-24', 'max': 35, 'min': 19}, {'avg': 29, 'day': '2023-05-25', 'max': 40, 'min': 15}, {'avg': 31, 'day': '2023-05-26', 'max': 42, 'min': 24}, {'avg': 28, 'day': '2023-05-27', 'max': 43, 'min': 16}, {'avg': 26, 'day': '2023-05-28', 'max': 26, 'min': 19}], 'pm10': [{'avg': 17, 'day': '2023-05-24', 'max': 23, 'min': 12}, {'avg': 16, 'day': '2023-05-25', 'max': 20, 'min': 11}, {'avg': 16, 'day': '2023-05-26', 'max': 19, 'min': 13}, {'avg': 15, 'day': '2023-05-27', 'max': 18, 'min': 11}, {'avg': 13, 'day': '2023-05-28', 'max': 14, 'min': 13}], 'pm25': [{'avg': 47, 'day': '2023-05-24', 'max': 55, 'min': 34}, {'avg': 45, 'day': '2023-05-25', 'max': 61, 'min': 31}, {'avg': 41, 'day': '2023-05-26', 'max': 48, 'min': 33}, {'avg': 42, 'day': '2023-05-27', 'max': 52, 'min': 30}, {'avg': 43, 'day': '2023-05-28', 'max': 47, 'min': 43}]}}}\n"
     ]
    }
   ],
   "source": [
    "collection = db[\"major_cities_airq\"]\n",
    "documents = collection.find()\n",
    "\n",
    "for document in documents:\n",
    "    print(document)\n"
   ]
  },
  {
   "cell_type": "code",
   "execution_count": 9,
   "id": "2596547d",
   "metadata": {},
   "outputs": [
    {
     "name": "stdout",
     "output_type": "stream",
     "text": [
      "major_cities_airq\n"
     ]
    }
   ],
   "source": [
    "#List the collections.\n",
    "collection_names = db.list_collection_names()\n",
    "\n",
    "for collection_name in collection_names:\n",
    "    print(collection_name)\n"
   ]
  },
  {
   "cell_type": "code",
   "execution_count": 10,
   "id": "c54a5091",
   "metadata": {},
   "outputs": [],
   "source": [
    "query = { \"data\": \"aqi\" }\n",
    "results = collection.find(query)\n",
    "\n",
    "for document in results:\n",
    "    print(document)\n"
   ]
  },
  {
   "cell_type": "code",
   "execution_count": null,
   "id": "6db6524e",
   "metadata": {},
   "outputs": [],
   "source": []
  }
 ],
 "metadata": {
  "kernelspec": {
   "display_name": "PythonData",
   "language": "python",
   "name": "pythondata"
  },
  "language_info": {
   "codemirror_mode": {
    "name": "ipython",
    "version": 3
   },
   "file_extension": ".py",
   "mimetype": "text/x-python",
   "name": "python",
   "nbconvert_exporter": "python",
   "pygments_lexer": "ipython3",
   "version": "3.7.7"
  }
 },
 "nbformat": 4,
 "nbformat_minor": 5
}
