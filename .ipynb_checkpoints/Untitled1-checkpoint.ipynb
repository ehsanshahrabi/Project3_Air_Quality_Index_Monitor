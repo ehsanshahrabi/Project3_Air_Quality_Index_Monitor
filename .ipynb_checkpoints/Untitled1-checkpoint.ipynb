{
 "cells": [
  {
   "cell_type": "code",
   "execution_count": 18,
   "id": "1ab7dbfb",
   "metadata": {},
   "outputs": [],
   "source": [
    "from pymongo import MongoClient\n"
   ]
  },
  {
   "cell_type": "code",
   "execution_count": 19,
   "id": "69fc7e29",
   "metadata": {},
   "outputs": [],
   "source": [
    "client = MongoClient(\"mongodb://localhost:27017/\")"
   ]
  },
  {
   "cell_type": "code",
   "execution_count": 20,
   "id": "e8550fa1",
   "metadata": {},
   "outputs": [],
   "source": [
    "db = client[\"air_quality_fivecities1\"]\n"
   ]
  },
  {
   "cell_type": "code",
   "execution_count": 21,
   "id": "15c4ade2",
   "metadata": {},
   "outputs": [
    {
     "name": "stdout",
     "output_type": "stream",
     "text": [
      "{'_id': ObjectId('646ef49e77e43c142375c06c'), 'status': 'ok', 'data': {'aqi': 95, 'idx': 1539, 'attributions': [{'url': 'http://meeb.sz.gov.cn/', 'name': 'Shenzhen Environment Network (深圳人居环境网)'}, {'url': 'http://gdee.gd.gov.cn/', 'name': 'Guangdong Environmental Protection public network (广东环境保护公众网)'}, {'url': 'http://www.szhec.gov.cn/', 'name': 'Shenzhen Environment Network (深圳人居环境网)'}, {'url': 'https://waqi.info/', 'name': 'World Air Quality Index Project'}], 'city': {'geo': [22.543099, 114.057868], 'name': 'Shenzhen (深圳)', 'url': 'https://aqicn.org/city/shenzhen', 'location': ''}, 'dominentpol': 'pm25', 'iaqi': {'co': {'v': 6.4}, 'd': {'v': 16}, 'h': {'v': 74}, 'no2': {'v': 8.7}, 'o3': {'v': 35.4}, 'p': {'v': 1011.8}, 'pm10': {'v': 53}, 'pm25': {'v': 95}, 'so2': {'v': 3.1}, 't': {'v': 32.2}, 'w': {'v': 5.2}, 'wd': {'v': 60}}, 'time': {'s': '2023-05-25 12:00:00', 'tz': '+08:00', 'v': 1685016000, 'iso': '2023-05-25T12:00:00+08:00'}, 'forecast': {'daily': {'o3': [{'avg': 14, 'day': '2023-05-23', 'max': 22, 'min': 2}, {'avg': 18, 'day': '2023-05-24', 'max': 21, 'min': 15}, {'avg': 8, 'day': '2023-05-25', 'max': 18, 'min': 5}, {'avg': 6, 'day': '2023-05-26', 'max': 14, 'min': 3}, {'avg': 14, 'day': '2023-05-27', 'max': 26, 'min': 10}, {'avg': 15, 'day': '2023-05-28', 'max': 34, 'min': 8}, {'avg': 10, 'day': '2023-05-29', 'max': 55, 'min': 1}, {'avg': 1, 'day': '2023-05-30', 'max': 2, 'min': 1}], 'pm10': [{'avg': 53, 'day': '2023-05-24', 'max': 59, 'min': 46}, {'avg': 46, 'day': '2023-05-25', 'max': 46, 'min': 46}, {'avg': 29, 'day': '2023-05-26', 'max': 46, 'min': 19}, {'avg': 44, 'day': '2023-05-27', 'max': 46, 'min': 27}, {'avg': 51, 'day': '2023-05-28', 'max': 56, 'min': 46}, {'avg': 58, 'day': '2023-05-29', 'max': 58, 'min': 46}, {'avg': 60, 'day': '2023-05-30', 'max': 73, 'min': 46}, {'avg': 60, 'day': '2023-05-31', 'max': 73, 'min': 58}], 'pm25': [{'avg': 136, 'day': '2023-05-24', 'max': 156, 'min': 89}, {'avg': 100, 'day': '2023-05-25', 'max': 138, 'min': 74}, {'avg': 85, 'day': '2023-05-26', 'max': 125, 'min': 68}, {'avg': 96, 'day': '2023-05-27', 'max': 138, 'min': 68}, {'avg': 134, 'day': '2023-05-28', 'max': 138, 'min': 90}, {'avg': 156, 'day': '2023-05-29', 'max': 159, 'min': 138}, {'avg': 160, 'day': '2023-05-30', 'max': 174, 'min': 138}, {'avg': 161, 'day': '2023-05-31', 'max': 174, 'min': 159}], 'uvi': [{'avg': 0, 'day': '2020-12-03', 'max': 0, 'min': 0}, {'avg': 1, 'day': '2020-12-04', 'max': 6, 'min': 0}, {'avg': 1, 'day': '2020-12-05', 'max': 6, 'min': 0}, {'avg': 1, 'day': '2020-12-06', 'max': 6, 'min': 0}, {'avg': 1, 'day': '2020-12-07', 'max': 4, 'min': 0}, {'avg': 2, 'day': '2020-12-08', 'max': 5, 'min': 0}]}}, 'debug': {'sync': '2023-05-25T13:36:18+09:00'}}}\n"
     ]
    }
   ],
   "source": [
    "collection = db[\"air_quality_fivecities1\"]\n",
    "documents = collection.find()\n",
    "\n",
    "for document in documents:\n",
    "    print(document)\n"
   ]
  },
  {
   "cell_type": "code",
   "execution_count": 22,
   "id": "ac1bea94",
   "metadata": {},
   "outputs": [
    {
     "name": "stdout",
     "output_type": "stream",
     "text": [
      "['admin', 'air_quality_cities', 'air_quality_fivecities', 'air_quality_fivecities1', 'config', 'epa', 'fruits_db', 'gardenDB', 'local', 'major_cities_airq', 'major_cities_airquality', 'met', 'petsitly_marketing']\n"
     ]
    }
   ],
   "source": [
    "print(client.list_database_names())"
   ]
  },
  {
   "cell_type": "code",
   "execution_count": 17,
   "id": "5a48990e",
   "metadata": {},
   "outputs": [],
   "source": []
  },
  {
   "cell_type": "code",
   "execution_count": null,
   "id": "c472c8cf",
   "metadata": {},
   "outputs": [],
   "source": []
  }
 ],
 "metadata": {
  "kernelspec": {
   "display_name": "PythonData",
   "language": "python",
   "name": "pythondata"
  },
  "language_info": {
   "codemirror_mode": {
    "name": "ipython",
    "version": 3
   },
   "file_extension": ".py",
   "mimetype": "text/x-python",
   "name": "python",
   "nbconvert_exporter": "python",
   "pygments_lexer": "ipython3",
   "version": "3.7.7"
  }
 },
 "nbformat": 4,
 "nbformat_minor": 5
}
