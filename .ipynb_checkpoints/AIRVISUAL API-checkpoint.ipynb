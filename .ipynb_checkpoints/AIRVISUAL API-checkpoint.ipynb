{
 "cells": [
  {
   "cell_type": "code",
   "execution_count": 1,
   "id": "fdc49871",
   "metadata": {},
   "outputs": [],
   "source": [
    "import requests\n",
    "import json\n",
    "import pandas as pd\n",
    "import time"
   ]
  },
  {
   "cell_type": "code",
   "execution_count": 2,
   "id": "d83f4f4c",
   "metadata": {},
   "outputs": [],
   "source": [
    "#Import the API Key\n",
    "from config import iqair_key"
   ]
  },
  {
   "cell_type": "code",
   "execution_count": 3,
   "id": "39724bb6",
   "metadata": {},
   "outputs": [],
   "source": [
    "base_url = \"http://api.airvisual.com/v2/countries?key=be58078c-90ba-4d5f-8146-2341fa5ec773\""
   ]
  },
  {
   "cell_type": "code",
   "execution_count": 4,
   "id": "bd80c080",
   "metadata": {},
   "outputs": [
    {
     "name": "stdout",
     "output_type": "stream",
     "text": [
      "{\n",
      "    \"status\": \"fail\",\n",
      "    \"data\": {\n",
      "        \"message\": \"Too Many Requests\"\n",
      "    }\n",
      "}\n"
     ]
    }
   ],
   "source": [
    "response = requests.get(base_url).json()\n",
    "print(json.dumps(response, indent=4))"
   ]
  },
  {
   "cell_type": "code",
   "execution_count": 11,
   "id": "42090bb3",
   "metadata": {},
   "outputs": [],
   "source": [
    "#Extract the \"data\" field from the JSON response\n",
    "data = response[\"data\"]"
   ]
  },
  {
   "cell_type": "code",
   "execution_count": 12,
   "id": "89447ce1",
   "metadata": {},
   "outputs": [
    {
     "name": "stdout",
     "output_type": "stream",
     "text": [
      "['Albania', 'Algeria', 'Andorra', 'Angola', 'Argentina', 'Armenia', 'Australia', 'Austria', 'Azerbaijan', 'Bahamas', 'Bangladesh', 'Belgium', 'Belize', 'Bermuda', 'Bolivia', 'Bonaire, Saint Eustatius and Saba', 'Bosnia Herzegovina', 'Brazil', 'Bulgaria', 'Burkina Faso', 'Cambodia', 'Cameroon', 'Canada', 'Cape Verde', 'Central African Republic', 'Chile', 'China', 'Colombia', 'Costa Rica', 'Croatia', 'Cyprus', 'Czech Republic', 'Democratic Republic of the Congo', 'Denmark', 'Ecuador', 'Egypt', 'El Salvador', 'Estonia', 'Ethiopia', 'Finland', 'France', 'French Polynesia', 'Gabon', 'Gambia', 'Georgia', 'Germany', 'Ghana', 'Greece', 'Grenada', 'Guatemala', 'Guinea', 'Guyana', 'Honduras', 'Hong Kong SAR', 'Hungary', 'Iceland', 'India', 'Indonesia', 'Iran', 'Iraq', 'Ireland', 'Israel', 'Italy', 'Ivory Coast', 'Jamaica', 'Japan', 'Kazakhstan', 'Kenya', 'Kosovo', 'Kuwait', 'Kyrgyzstan', 'Laos', 'Latvia', 'Lebanon', 'Libya', 'Liechtenstein', 'Lithuania', 'Luxembourg', 'Macao SAR', 'Madagascar', 'Malaysia', 'Maldives', 'Malta', 'Mauritius', 'Mexico', 'Moldova', 'Mongolia', 'Montenegro', 'Mozambique', 'Myanmar', 'Nepal', 'Netherlands', 'New Caledonia', 'New Zealand', 'Nicaragua', 'Niger', 'Nigeria', 'North Macedonia', 'Norway', 'Oman', 'Pakistan', 'Palestinian Territory', 'Panama', 'Peru', 'Philippines', 'Poland', 'Portugal', 'Puerto Rico', 'Qatar', 'Romania', 'Russia', 'Rwanda', 'San Marino', 'Saudi Arabia', 'Senegal', 'Serbia', 'Singapore', 'Slovakia', 'Slovenia', 'South Africa', 'South Korea', 'Spain', 'Sri Lanka', 'Suriname', 'Sweden', 'Switzerland', 'Taiwan', 'Tajikistan', 'Tanzania', 'Thailand', 'Trinidad and Tobago', 'Turkey', 'Turkmenistan', 'U.S. Virgin Islands', 'USA', 'Uganda', 'Ukraine', 'United Arab Emirates', 'United Kingdom', 'Uruguay', 'Uzbekistan', 'Venezuela', 'Vietnam', 'Zambia', 'Zimbabwe']\n"
     ]
    }
   ],
   "source": [
    "#Convert the data to a list\n",
    "country_list = [item[\"country\"] for item in data]\n",
    "print(country_list)"
   ]
  },
  {
   "cell_type": "code",
   "execution_count": 14,
   "id": "c6f0c02e",
   "metadata": {},
   "outputs": [
    {
     "name": "stdout",
     "output_type": "stream",
     "text": [
      "{\n",
      "    \"status\": \"success\",\n",
      "    \"data\": [\n",
      "        {\n",
      "            \"state\": \"Alabama\"\n",
      "        },\n",
      "        {\n",
      "            \"state\": \"Alaska\"\n",
      "        },\n",
      "        {\n",
      "            \"state\": \"Arizona\"\n",
      "        },\n",
      "        {\n",
      "            \"state\": \"Arkansas\"\n",
      "        },\n",
      "        {\n",
      "            \"state\": \"California\"\n",
      "        },\n",
      "        {\n",
      "            \"state\": \"Colorado\"\n",
      "        },\n",
      "        {\n",
      "            \"state\": \"Connecticut\"\n",
      "        },\n",
      "        {\n",
      "            \"state\": \"Delaware\"\n",
      "        },\n",
      "        {\n",
      "            \"state\": \"Florida\"\n",
      "        },\n",
      "        {\n",
      "            \"state\": \"Georgia\"\n",
      "        },\n",
      "        {\n",
      "            \"state\": \"Guam\"\n",
      "        },\n",
      "        {\n",
      "            \"state\": \"Hawaii\"\n",
      "        },\n",
      "        {\n",
      "            \"state\": \"Idaho\"\n",
      "        },\n",
      "        {\n",
      "            \"state\": \"Illinois\"\n",
      "        },\n",
      "        {\n",
      "            \"state\": \"Indiana\"\n",
      "        },\n",
      "        {\n",
      "            \"state\": \"Iowa\"\n",
      "        },\n",
      "        {\n",
      "            \"state\": \"Kansas\"\n",
      "        },\n",
      "        {\n",
      "            \"state\": \"Kentucky\"\n",
      "        },\n",
      "        {\n",
      "            \"state\": \"Louisiana\"\n",
      "        },\n",
      "        {\n",
      "            \"state\": \"Maine\"\n",
      "        },\n",
      "        {\n",
      "            \"state\": \"Maryland\"\n",
      "        },\n",
      "        {\n",
      "            \"state\": \"Massachusetts\"\n",
      "        },\n",
      "        {\n",
      "            \"state\": \"Michigan\"\n",
      "        },\n",
      "        {\n",
      "            \"state\": \"Minnesota\"\n",
      "        },\n",
      "        {\n",
      "            \"state\": \"Mississippi\"\n",
      "        },\n",
      "        {\n",
      "            \"state\": \"Missouri\"\n",
      "        },\n",
      "        {\n",
      "            \"state\": \"Montana\"\n",
      "        },\n",
      "        {\n",
      "            \"state\": \"Nebraska\"\n",
      "        },\n",
      "        {\n",
      "            \"state\": \"Nevada\"\n",
      "        },\n",
      "        {\n",
      "            \"state\": \"New Hampshire\"\n",
      "        },\n",
      "        {\n",
      "            \"state\": \"New Jersey\"\n",
      "        },\n",
      "        {\n",
      "            \"state\": \"New Mexico\"\n",
      "        },\n",
      "        {\n",
      "            \"state\": \"New York\"\n",
      "        },\n",
      "        {\n",
      "            \"state\": \"North Carolina\"\n",
      "        },\n",
      "        {\n",
      "            \"state\": \"North Dakota\"\n",
      "        },\n",
      "        {\n",
      "            \"state\": \"Ohio\"\n",
      "        },\n",
      "        {\n",
      "            \"state\": \"Oklahoma\"\n",
      "        },\n",
      "        {\n",
      "            \"state\": \"Oregon\"\n",
      "        },\n",
      "        {\n",
      "            \"state\": \"Pennsylvania\"\n",
      "        },\n",
      "        {\n",
      "            \"state\": \"Rhode Island\"\n",
      "        },\n",
      "        {\n",
      "            \"state\": \"South Carolina\"\n",
      "        },\n",
      "        {\n",
      "            \"state\": \"South Dakota\"\n",
      "        },\n",
      "        {\n",
      "            \"state\": \"Tennessee\"\n",
      "        },\n",
      "        {\n",
      "            \"state\": \"Texas\"\n",
      "        },\n",
      "        {\n",
      "            \"state\": \"Utah\"\n",
      "        },\n",
      "        {\n",
      "            \"state\": \"Vermont\"\n",
      "        },\n",
      "        {\n",
      "            \"state\": \"Virginia\"\n",
      "        },\n",
      "        {\n",
      "            \"state\": \"Washington\"\n",
      "        },\n",
      "        {\n",
      "            \"state\": \"Washington, D.C.\"\n",
      "        },\n",
      "        {\n",
      "            \"state\": \"West Virginia\"\n",
      "        },\n",
      "        {\n",
      "            \"state\": \"Wisconsin\"\n",
      "        },\n",
      "        {\n",
      "            \"state\": \"Wyoming\"\n",
      "        }\n",
      "    ]\n",
      "}\n"
     ]
    }
   ],
   "source": [
    "base_url_state = \"http://api.airvisual.com/v2/states?country=USA&key=be58078c-90ba-4d5f-8146-2341fa5ec773\"\n",
    "response_state = requests.get(base_url_state).json()\n",
    "print(json.dumps(response_state, indent=4))"
   ]
  },
  {
   "cell_type": "code",
   "execution_count": 15,
   "id": "9728e89a",
   "metadata": {},
   "outputs": [],
   "source": [
    "#Extract the \"data\" field from the JSON response\n",
    "data = response_state[\"data\"]"
   ]
  },
  {
   "cell_type": "code",
   "execution_count": 16,
   "id": "20bf4a8a",
   "metadata": {},
   "outputs": [
    {
     "name": "stdout",
     "output_type": "stream",
     "text": [
      "['Alabama', 'Alaska', 'Arizona', 'Arkansas', 'California', 'Colorado', 'Connecticut', 'Delaware', 'Florida', 'Georgia', 'Guam', 'Hawaii', 'Idaho', 'Illinois', 'Indiana', 'Iowa', 'Kansas', 'Kentucky', 'Louisiana', 'Maine', 'Maryland', 'Massachusetts', 'Michigan', 'Minnesota', 'Mississippi', 'Missouri', 'Montana', 'Nebraska', 'Nevada', 'New Hampshire', 'New Jersey', 'New Mexico', 'New York', 'North Carolina', 'North Dakota', 'Ohio', 'Oklahoma', 'Oregon', 'Pennsylvania', 'Rhode Island', 'South Carolina', 'South Dakota', 'Tennessee', 'Texas', 'Utah', 'Vermont', 'Virginia', 'Washington', 'Washington, D.C.', 'West Virginia', 'Wisconsin', 'Wyoming']\n"
     ]
    }
   ],
   "source": [
    "#Convert the data to a list\n",
    "state_list = [item[\"state\"] for item in data]\n",
    "print(state_list)"
   ]
  },
  {
   "cell_type": "code",
   "execution_count": 49,
   "id": "e750572a",
   "metadata": {},
   "outputs": [
    {
     "name": "stdout",
     "output_type": "stream",
     "text": [
      "{\n",
      "    \"status\": \"fail\",\n",
      "    \"data\": {\n",
      "        \"message\": \"Too Many Requests\"\n",
      "    }\n",
      "}\n"
     ]
    },
    {
     "ename": "TypeError",
     "evalue": "string indices must be integers",
     "output_type": "error",
     "traceback": [
      "\u001b[1;31m---------------------------------------------------------------------------\u001b[0m",
      "\u001b[1;31mTypeError\u001b[0m                                 Traceback (most recent call last)",
      "\u001b[1;32m~\\AppData\\Local\\Temp\\ipykernel_13604\\3537525395.py\u001b[0m in \u001b[0;36m<module>\u001b[1;34m\u001b[0m\n\u001b[0;32m     12\u001b[0m     \u001b[0mprint\u001b[0m\u001b[1;33m(\u001b[0m\u001b[0mjson\u001b[0m\u001b[1;33m.\u001b[0m\u001b[0mdumps\u001b[0m\u001b[1;33m(\u001b[0m\u001b[0mresponse_cities\u001b[0m\u001b[1;33m,\u001b[0m \u001b[0mindent\u001b[0m\u001b[1;33m=\u001b[0m\u001b[1;36m4\u001b[0m\u001b[1;33m)\u001b[0m\u001b[1;33m)\u001b[0m\u001b[1;33m\u001b[0m\u001b[1;33m\u001b[0m\u001b[0m\n\u001b[0;32m     13\u001b[0m     \u001b[1;32mfor\u001b[0m \u001b[0mcities\u001b[0m \u001b[1;32min\u001b[0m \u001b[0mresponse_cities\u001b[0m\u001b[1;33m[\u001b[0m\u001b[1;34m\"data\"\u001b[0m\u001b[1;33m]\u001b[0m\u001b[1;33m:\u001b[0m\u001b[1;33m\u001b[0m\u001b[1;33m\u001b[0m\u001b[0m\n\u001b[1;32m---> 14\u001b[1;33m         \u001b[0mcity\u001b[0m\u001b[1;33m.\u001b[0m\u001b[0mappend\u001b[0m\u001b[1;33m(\u001b[0m\u001b[0mcities\u001b[0m\u001b[1;33m[\u001b[0m\u001b[1;34m\"city\"\u001b[0m\u001b[1;33m]\u001b[0m\u001b[1;33m)\u001b[0m\u001b[1;33m\u001b[0m\u001b[1;33m\u001b[0m\u001b[0m\n\u001b[0m\u001b[0;32m     15\u001b[0m         \u001b[0mnrequests\u001b[0m\u001b[1;33m=\u001b[0m\u001b[1;36m0\u001b[0m\u001b[1;33m\u001b[0m\u001b[1;33m\u001b[0m\u001b[0m\n\u001b[0;32m     16\u001b[0m         \u001b[1;32mfor\u001b[0m \u001b[0mi\u001b[0m \u001b[1;32min\u001b[0m \u001b[0mcity\u001b[0m\u001b[1;33m:\u001b[0m\u001b[1;33m\u001b[0m\u001b[1;33m\u001b[0m\u001b[0m\n",
      "\u001b[1;31mTypeError\u001b[0m: string indices must be integers"
     ]
    }
   ],
   "source": [
    "#Cities Endpoint\n",
    "\n",
    "city = []\n",
    "\n",
    "base_url_cities_0 = \"http://api.airvisual.com/v2/cities?state=\"\n",
    "base_url_cities_1 = \"&country=USA&key=be58078c-90ba-4d5f-8146-2341fa5ec773\"\n",
    "base_url_citydata_0 = \"http://api.airvisual.com/v2/city?city=\"\n",
    "\n",
    "for x in state_list:\n",
    "    base_url_cities = base_url_cities_0 + x + base_url_cities_1\n",
    "    response_cities = requests.get(base_url_cities).json()\n",
    "    print(json.dumps(response_cities, indent=4))\n",
    "    for cities in response_cities[\"data\"]:\n",
    "        city.append(cities[\"city\"])\n",
    "        nrequests=0\n",
    "        for i in city:\n",
    "            base_url_citydata = base_url_citydata_0  + i + \"&state=\" + x + base_url_cities_1\n",
    "            response_cities_data = requests.get(base_url_citydata).json()\n",
    "            print(json.dumps(response_cities_data, indent=4))\n",
    "            if nrequests==2:\n",
    "                time.sleep(10)\n",
    "                nrequests=0\n",
    "            else:\n",
    "                nrequests+=1\n",
    "            time.spleep(1)\n"
   ]
  },
  {
   "cell_type": "code",
   "execution_count": 46,
   "id": "7c582b32",
   "metadata": {},
   "outputs": [
    {
     "name": "stdout",
     "output_type": "stream",
     "text": [
      "[]\n"
     ]
    }
   ],
   "source": [
    "print(city)"
   ]
  },
  {
   "cell_type": "code",
   "execution_count": null,
   "id": "0a1768b1",
   "metadata": {},
   "outputs": [],
   "source": [
    "#Get cities data\n"
   ]
  }
 ],
 "metadata": {
  "kernelspec": {
   "display_name": "PythonData",
   "language": "python",
   "name": "pythondata"
  },
  "language_info": {
   "codemirror_mode": {
    "name": "ipython",
    "version": 3
   },
   "file_extension": ".py",
   "mimetype": "text/x-python",
   "name": "python",
   "nbconvert_exporter": "python",
   "pygments_lexer": "ipython3",
   "version": "3.7.7"
  }
 },
 "nbformat": 4,
 "nbformat_minor": 5
}
