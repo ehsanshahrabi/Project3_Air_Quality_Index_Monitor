{
 "cells": [
  {
   "cell_type": "code",
   "execution_count": 1,
   "id": "769b3a6f",
   "metadata": {},
   "outputs": [],
   "source": [
    "import requests\n",
    "from bs4 import BeautifulSoup\n",
    "import pandas as pd\n",
    "from splinter import Browser"
   ]
  },
  {
   "cell_type": "code",
   "execution_count": 2,
   "id": "b59a2b67",
   "metadata": {},
   "outputs": [],
   "source": [
    "# Send a GET request to the website\n",
    "url = \"https://aqicn.org/city/all/\"\n",
    "\n",
    "response = requests.get(url)"
   ]
  },
  {
   "cell_type": "code",
   "execution_count": 3,
   "id": "af0e9df1",
   "metadata": {},
   "outputs": [],
   "source": [
    "# Create a BeautifulSoup object to parse the HTML content\n",
    "soup = BeautifulSoup(response.content, \"html.parser\")"
   ]
  },
  {
   "cell_type": "code",
   "execution_count": 4,
   "id": "dafbef2a",
   "metadata": {},
   "outputs": [],
   "source": [
    "container = soup.find(\"div\", class_=\"main-cities\")"
   ]
  },
  {
   "cell_type": "code",
   "execution_count": 5,
   "id": "7a299b50",
   "metadata": {},
   "outputs": [],
   "source": [
    "city_elements = container.find_all(\"a\")"
   ]
  },
  {
   "cell_type": "code",
   "execution_count": 6,
   "id": "9bfeb316",
   "metadata": {},
   "outputs": [],
   "source": [
    "cities = [city_element.text.strip() for city_element in city_elements]"
   ]
  },
  {
   "cell_type": "code",
   "execution_count": 7,
   "id": "183a7af0",
   "metadata": {},
   "outputs": [
    {
     "data": {
      "text/html": [
       "<div>\n",
       "<style scoped>\n",
       "    .dataframe tbody tr th:only-of-type {\n",
       "        vertical-align: middle;\n",
       "    }\n",
       "\n",
       "    .dataframe tbody tr th {\n",
       "        vertical-align: top;\n",
       "    }\n",
       "\n",
       "    .dataframe thead th {\n",
       "        text-align: right;\n",
       "    }\n",
       "</style>\n",
       "<table border=\"1\" class=\"dataframe\">\n",
       "  <thead>\n",
       "    <tr style=\"text-align: right;\">\n",
       "      <th></th>\n",
       "      <th>City Name</th>\n",
       "    </tr>\n",
       "  </thead>\n",
       "  <tbody>\n",
       "    <tr>\n",
       "      <th>0</th>\n",
       "      <td>Shanghai (上海)</td>\n",
       "    </tr>\n",
       "    <tr>\n",
       "      <th>1</th>\n",
       "      <td>Beijing (北京)</td>\n",
       "    </tr>\n",
       "    <tr>\n",
       "      <th>2</th>\n",
       "      <td>Tianjin (天津)</td>\n",
       "    </tr>\n",
       "    <tr>\n",
       "      <th>3</th>\n",
       "      <td>Guangzhou (广州市)</td>\n",
       "    </tr>\n",
       "    <tr>\n",
       "      <th>4</th>\n",
       "      <td>Shenzhen (深圳)</td>\n",
       "    </tr>\n",
       "    <tr>\n",
       "      <th>...</th>\n",
       "      <td>...</td>\n",
       "    </tr>\n",
       "    <tr>\n",
       "      <th>528</th>\n",
       "      <td>Addis Ababa (አዲስ አበባ)</td>\n",
       "    </tr>\n",
       "    <tr>\n",
       "      <th>529</th>\n",
       "      <td>Nairobi</td>\n",
       "    </tr>\n",
       "    <tr>\n",
       "      <th>530</th>\n",
       "      <td>Kampala (كامبالا)</td>\n",
       "    </tr>\n",
       "    <tr>\n",
       "      <th>531</th>\n",
       "      <td>Algiers (الجزائر)</td>\n",
       "    </tr>\n",
       "    <tr>\n",
       "      <th>532</th>\n",
       "      <td>Bamako (Bamakɔ)</td>\n",
       "    </tr>\n",
       "  </tbody>\n",
       "</table>\n",
       "<p>533 rows × 1 columns</p>\n",
       "</div>"
      ],
      "text/plain": [
       "                 City Name\n",
       "0            Shanghai (上海)\n",
       "1             Beijing (北京)\n",
       "2             Tianjin (天津)\n",
       "3          Guangzhou (广州市)\n",
       "4            Shenzhen (深圳)\n",
       "..                     ...\n",
       "528  Addis Ababa (አዲስ አበባ)\n",
       "529                Nairobi\n",
       "530      Kampala (كامبالا)\n",
       "531      Algiers (الجزائر)\n",
       "532        Bamako (Bamakɔ)\n",
       "\n",
       "[533 rows x 1 columns]"
      ]
     },
     "execution_count": 7,
     "metadata": {},
     "output_type": "execute_result"
    }
   ],
   "source": [
    "cities_df = pd.DataFrame(cities, columns=[\"City Name\"])\n",
    "cities_df"
   ]
  },
  {
   "cell_type": "code",
   "execution_count": 8,
   "id": "3bb684d2",
   "metadata": {},
   "outputs": [
    {
     "name": "stdout",
     "output_type": "stream",
     "text": [
      "<class 'pandas.core.frame.DataFrame'>\n",
      "RangeIndex: 533 entries, 0 to 532\n",
      "Data columns (total 1 columns):\n",
      " #   Column     Non-Null Count  Dtype \n",
      "---  ------     --------------  ----- \n",
      " 0   City Name  533 non-null    object\n",
      "dtypes: object(1)\n",
      "memory usage: 4.3+ KB\n"
     ]
    }
   ],
   "source": [
    "cities_df.info()"
   ]
  },
  {
   "cell_type": "code",
   "execution_count": 9,
   "id": "99adf46e",
   "metadata": {},
   "outputs": [
    {
     "data": {
      "text/html": [
       "<div>\n",
       "<style scoped>\n",
       "    .dataframe tbody tr th:only-of-type {\n",
       "        vertical-align: middle;\n",
       "    }\n",
       "\n",
       "    .dataframe tbody tr th {\n",
       "        vertical-align: top;\n",
       "    }\n",
       "\n",
       "    .dataframe thead th {\n",
       "        text-align: right;\n",
       "    }\n",
       "</style>\n",
       "<table border=\"1\" class=\"dataframe\">\n",
       "  <thead>\n",
       "    <tr style=\"text-align: right;\">\n",
       "      <th></th>\n",
       "      <th>City Name</th>\n",
       "    </tr>\n",
       "  </thead>\n",
       "  <tbody>\n",
       "    <tr>\n",
       "      <th>0</th>\n",
       "      <td>Shanghai</td>\n",
       "    </tr>\n",
       "    <tr>\n",
       "      <th>1</th>\n",
       "      <td>Beijing</td>\n",
       "    </tr>\n",
       "    <tr>\n",
       "      <th>2</th>\n",
       "      <td>Tianjin</td>\n",
       "    </tr>\n",
       "    <tr>\n",
       "      <th>3</th>\n",
       "      <td>Guangzhou</td>\n",
       "    </tr>\n",
       "    <tr>\n",
       "      <th>4</th>\n",
       "      <td>Shenzhen</td>\n",
       "    </tr>\n",
       "    <tr>\n",
       "      <th>...</th>\n",
       "      <td>...</td>\n",
       "    </tr>\n",
       "    <tr>\n",
       "      <th>528</th>\n",
       "      <td>Addis Ababa</td>\n",
       "    </tr>\n",
       "    <tr>\n",
       "      <th>529</th>\n",
       "      <td>Nairobi</td>\n",
       "    </tr>\n",
       "    <tr>\n",
       "      <th>530</th>\n",
       "      <td>Kampala</td>\n",
       "    </tr>\n",
       "    <tr>\n",
       "      <th>531</th>\n",
       "      <td>Algiers</td>\n",
       "    </tr>\n",
       "    <tr>\n",
       "      <th>532</th>\n",
       "      <td>Bamako</td>\n",
       "    </tr>\n",
       "  </tbody>\n",
       "</table>\n",
       "<p>533 rows × 1 columns</p>\n",
       "</div>"
      ],
      "text/plain": [
       "       City Name\n",
       "0       Shanghai\n",
       "1        Beijing\n",
       "2        Tianjin\n",
       "3      Guangzhou\n",
       "4       Shenzhen\n",
       "..           ...\n",
       "528  Addis Ababa\n",
       "529      Nairobi\n",
       "530      Kampala\n",
       "531      Algiers\n",
       "532       Bamako\n",
       "\n",
       "[533 rows x 1 columns]"
      ]
     },
     "execution_count": 9,
     "metadata": {},
     "output_type": "execute_result"
    }
   ],
   "source": [
    "#Removing parenthesis form the City Name column\n",
    "cities_df['City Name'] = cities_df['City Name'].str.replace(r'\\s+\\(.*\\)', '', regex=True)\n",
    "cities_df"
   ]
  },
  {
   "cell_type": "code",
   "execution_count": 10,
   "id": "563fd4a2",
   "metadata": {},
   "outputs": [
    {
     "name": "stdout",
     "output_type": "stream",
     "text": [
      "['Shanghai', 'Beijing', 'Tianjin', 'Guangzhou', 'Shenzhen', 'Wuhan', 'Dongguan', 'Chongqing', 'Chengdu', 'Nanjing', 'Taipei', 'Kaohsiung', 'Taichung', 'tainan', 'banqiao', 'hsinchu', 'taoyuan-city', 'Keelung', 'Hong Kong', 'Macao', 'Hanyang', 'Busan', 'Incheon', 'Daejeon', 'Ulsan', 'Daegu', 'Gwangju', 'Suwon', 'Goyang', 'Seongnam', 'Edo', 'Yokohama', 'Osaka', 'Nagoya', 'Sapporo', 'Kobe', 'Kyoto', 'Fukuoka', 'Kawasaki', 'saitama', 'Moscow', 'Krasnoyarsk', 'Kaliningrad', 'Leningrad', 'Novo-Nikolaevsk', 'Nizhniy Novgorod', 'Chelyabinsk', 'Ufa', 'Dhaka', 'Kathmandu', 'Pokhara', 'Patan', 'biratnagar', 'Birgunj', 'dharan-bazar', 'Bharatpur', 'Bombay', 'Delhi', 'Bangalore', 'Calcutta', 'Chennai', 'Ahmedabad', 'Hyderabad', 'Pune', 'Kanpur', 'Bangkok', 'mueang-samut-prakan', 'Nonthaburi', 'chon-buri', 'Nakhon Ratchasima', 'Chiangmai', 'Hat Yai', 'Pak Kret', 'si-racha', 'Amphoe Phra Pradaeng', 'Lampang', 'surin', 'Vientiane', 'Rangoon', 'Kota Bharu', 'Kuala Lumpur', 'klang', 'kampung-baru-subang', 'Johor Bahru', 'Subang Jaya', 'Ipoh', 'Kuching', 'Ho Chi Minh City', 'Hanoi', 'Da Nang', 'Haiphong', 'bien-hoa', 'Huế', 'Nha Trang', 'Bandar Seri Begawan', 'City of Manila', 'Jakarta', 'Medan', 'Bekasi', 'Palembang', 'Tangerang', 'south-tangerang', 'Colombo', 'galkissa', 'moratuwa', 'Negombo', 'pita-kotte', 'Kotte', 'Astana', 'Almaty', 'Dushanbe', 'vahdat', 'tursunzoda', 'Bishkek', 'Tashkent', 'Phnom Penh', 'Montreal', 'Toronto', 'Vancouver', 'Calgary', 'Ottawa', 'Edmonton', 'Mississauga', 'north-york', 'Winnipeg', 'scarborough', 'Auckland', 'Wellington', 'Christchurch', 'Manukau', 'waitakere', 'North Shore', 'Hamilton', 'Dunedin', 'Lower Hutt', 'Syd', 'Melbourne', 'Brisbane', 'Perth', 'Adelaide', 'Gold', 'Canberra', 'Newcastle', 'Wollongong', 'Logan', 'Big Apple', 'Big Apple', 'LA', 'Chicago', 'Borough of Brooklyn', 'borough-of-queens', 'houston', 'Philadelphia', 'manhattan', 'Phoenix', 'Borough of Bronx', 'Lima', 'Callao', 'laventille', 'Santiago', 'puente-alto', 'Antofagasta', 'Viña del Mar', 'Valparaíso', 'Talcahuano', 'san-bernardo', 'temuco', 'Iquique', 'Concepción', 'São Paulo', 'Mexico City', 'iztapalapa', 'Ecatepec de Morelos', 'Guadalajara', 'Puebla', 'Ciudad Juárez', 'Tijuana', 'Ciudad Neza', 'Bogotá', 'Santiago de Cali', 'Medellín', 'Willemstad', 'sint-michiel-liber', 'barber', 'dorp-soto', 'newport', 'sabana-westpunt', 'dorp-sint-willebrordus', 'lagun', 'Quito', 'Cuenca', 'Buenos Aires', 'San Salvador', 'San Juan', 'Guatemala City', 'San José', 'Paris', 'Marseille', 'Lyon', 'Toulouse', 'Nice', 'Nantes', 'Strasbourg', 'Montpellier', 'Bordeaux', 'Lille', 'Tallinn', 'Tartu', 'Narva', 'Kohtla-Järve', 'rakvere', 'Sillamäe', 'Maardu', 'Kuressaare', 'Madrid', 'Barcelona', 'Valencia', 'Seville', 'Saragossa', 'Málaga', 'Murcia', 'Palma de Mallorca', 'Las Palmas de Gran Canaria', 'bilbao', 'City of London', 'city-of-london', 'Zurich', 'Geneva', 'Basel', 'Bern', 'Lausanne', 'Winterthur', 'St. Gallen', 'Lucerne', 'Prague', 'Brno', 'Ostrava', 'Pilsen', 'Olomouc', 'Liberec', 'Budweis', 'Hradec Králové', 'Rome', 'Milan', 'Naples', 'Turin', 'Genoa', 'Bologna', 'Florence', 'Bratislava', 'Košice', 'Prešov', 'Nitra', 'Žilina', 'Banská Bystrica', 'Trnava', 'martin', 'Oslo', 'Bergen', 'Trondheim', 'Stavanger', 'Drammen', 'Fredrikstad', 'Kristiansand', 'Sandnes', 'Vienna', 'Graz', 'Linz', 'Salzburg', 'Innsbruck', 'Klagenfurt', 'Villach', 'Wels', 'Nicosia', 'Limassol', 'Larnaca', 'Famagusta', 'Paphos', 'Keryneia', 'Protaras', 'pergamos', 'Warsaw', 'Łódź', 'Krakow', 'Wrocław', 'poznan', 'Gdańsk', 'Szczecin', 'Bydgoszcz', 'Lublin', 'Katowice', 'Brussels', 'Antwerp', 'Ghent', 'Charleroi', 'Liège', 'Bruges', 'Namur', 'Leuven', 'Amsterdam', 'Rotterdam', 'Hague', 'Utrecht', 'Eindhoven', 'Tilburg', 'Groningen', 'Almere', 'Breda', 'Nijmegen', 'Copenhagen', 'frederiksberg', 'Vilnius', 'Kaunas', 'Klaipėda', 'Šiauliai', 'dainava-kaunas', 'eiguliai', 'Budapest', 'Debrecen', 'Miskolc', 'szeged', 'Pécs', 'budapest-xi.-kerulet', 'budapest-iii.-kerulet', 'budapest-xiv.-kerulet', 'nyiregyhaza', 'Bucharest', 'Iași', 'Cluj-Napoca', 'Timişoara', 'Craiova', 'Braşov', 'Ploieşti', 'Brăila', 'Dublin', 'zagreb---centar', 'Zagreb', 'Split', 'Rijeka', 'Osijek', 'Zadar', 'Slavonski Brod', 'Pula', 'Ljubljana', 'Maribor', 'Celje', 'Kranj', 'Velenje', 'Koper', 'Novo Mesto', 'Ptuj', 'Birkirkara', 'qormi', 'Mosta', 'zabbar', 'Saint John', 'fgura', 'zejtun', 'Berlin', 'Hamburg', 'Munich', 'Cologne', 'Frankfurt', 'Essen', 'Stuttgart', 'Dortmund', 'Duesseldorf', 'Bremen', 'Helsinki', 'Espoo', 'Tampere', 'Vantaa', 'Turku', 'Oulu', 'Lahti', 'Kuopio', 'Jyvaskyla', 'Pori', 'Noumea', 'Stockholm', 'Goteborg', 'Malmo', 'Uppsala', 'Västerås', 'Linköping', 'Helsingborg', 'Sofia', 'Plovdiv', 'Varna', 'Burgas', 'Rousse', 'Stara Zagora', 'Pleven', 'Sliven', 'Belgrade', 'Niš', 'Novi Sad', 'zemun', 'Kragujevac', 'Čačak', 'Subotica', 'Leskovac', 'Sarajevo', 'Banja Luka', 'Zenica', 'Tuzla', 'Mostar', 'Bugojno', 'brcko', 'Prishtina', 'Prizren', 'Kosovska Mitrovica', 'gjakove', 'Peć', 'Suva Reka', 'ferizaj', 'glogovac', 'Skopje', 'Bitola', 'Kumanovo', 'Prilep', 'Tetovo', 'cair', 'kisela-voda', 'Veles', 'Podgorica', 'niksic', 'Herceg Novi', 'Pljevlja', 'Budva', 'Bar', 'Bijelo Polje', 'Cetinje', 'Reykjavik', 'Kopavogur', 'Hafnarfirdi', 'Akureyri', 'Garðabaer', 'Mosfellsbaer', 'Akranes', 'selfoss', 'Lisbon', 'Porto', 'Amadora', 'Braga', 'Setúbal', 'Queluz', 'Funchal', 'Athens', 'Kiev', 'Dnipro', 'Odesa', 'Alexandrovsk', 'Lviv', 'Kryvyi Rih', 'Mariupol', 'ivano-frankivsk', 'Tbilisi', 'Kutaisi', 'Batumi', 'Rustavi', 'Haifa', 'Tel Aviv', 'Ariel', 'West Jerusalem', 'Ashdod', 'Rishon LeZion', 'Petach Tikva', 'Beersheba', 'Ankara', 'Byzantium', 'Izmir', 'Bursa', 'Adana', 'Gaziantep', 'Konya', 'cankaya', 'Antalya', 'Tehran', 'Mashhad', 'Isfahan', 'Karaj', 'Tabriz', 'Shiraz', 'Qom', 'Ahvaz', 'Dubai', 'al-sohar', 'Saham', 'Manama', 'Al Muharraq', 'dar-kulayb', 'sitrah', 'Al Ahmadi', 'Kuwait', 'Amman', 'Zarqa', 'Irbid', 'russeifa', 'Wadi Al Seer', 'Adjlun', 'Aqaba', 'Madaba', 'Baghdad', 'Basra', 'Abu Ghraib', 'Jeddah', 'Medina', 'Riyadh', 'Mecca', 'sultanah', 'Dammam', 'Taif', 'tabuk', 'Karachi', 'Lahore', 'Rawalpindi', 'Peshawar', 'Kabul', 'Ashgabat', 'Cape Town', 'Durban', \"Jo'anna\", 'Soweto', 'Pretoria', 'Port Elizabeth', 'Pietermaritzburg', 'benoni', 'Addis Ababa', 'Nairobi', 'Kampala', 'Algiers', 'Bamako']\n"
     ]
    }
   ],
   "source": [
    "cities_list = cities_df[\"City Name\"].tolist()\n",
    "print(cities_list)"
   ]
  },
  {
   "cell_type": "code",
   "execution_count": 11,
   "id": "189635be",
   "metadata": {},
   "outputs": [],
   "source": [
    "import json\n",
    "import time\n",
    "from pymongo import MongoClient"
   ]
  },
  {
   "cell_type": "code",
   "execution_count": 79,
   "id": "49d7597c",
   "metadata": {
    "scrolled": false
   },
   "outputs": [],
   "source": [
    "client = MongoClient('mongodb://localhost:27017/')\n",
    "db = client['air_quality_status']\n",
    "collection = db['air_quality_status']\n",
    "\n",
    "#short_city_list = ['Shanghai', 'Beijing', 'Tianjin', 'Guangzhou', 'Shenzhen',]\n",
    "base_url_cities_0 = \"http://api.waqi.info/feed/\"\n",
    "base_url_cities_1 = \"/?token=cfec51e63370e90b7880950705e8add14a2602b6\"\n",
    "#base_url_citydata_0 = \"http://api.airvisual.com/v2/city?city=\"\n",
    "\n",
    "for x in cities_list:\n",
    "    base_url_cities = base_url_cities_0 + x + base_url_cities_1\n",
    "    response_cities = requests.get(base_url_cities, params=params).json()\n",
    "    #print(json.dumps(response_cities, indent=4))\n",
    "    #Insert the data into the collection\n",
    "    if response_cities['status']=='ok':\n",
    "        collection.insert_one(response_cities)\n",
    "client.close()"
   ]
  },
  {
   "cell_type": "code",
   "execution_count": 69,
   "id": "47dacdb5",
   "metadata": {},
   "outputs": [],
   "source": [
    "#Storage the data into a MongoDB database\n",
    "from pymongo import MongoClient"
   ]
  },
  {
   "cell_type": "code",
   "execution_count": 70,
   "id": "8d985aa9",
   "metadata": {},
   "outputs": [],
   "source": [
    "#Establish the MongoDB server\n",
    "client = MongoClient('mongodb://localhost:27017/')"
   ]
  },
  {
   "cell_type": "code",
   "execution_count": 71,
   "id": "aea0943d",
   "metadata": {},
   "outputs": [],
   "source": [
    "#Create a database\n",
    "db = client['aitr_quality3']"
   ]
  },
  {
   "cell_type": "code",
   "execution_count": 72,
   "id": "bafbd7ed",
   "metadata": {},
   "outputs": [],
   "source": [
    "# Create a collection\n",
    "collection = db['aitr_quality3']"
   ]
  },
  {
   "cell_type": "code",
   "execution_count": 74,
   "id": "ac563113",
   "metadata": {
    "scrolled": true
   },
   "outputs": [
    {
     "data": {
      "text/plain": [
       "<pymongo.results.InsertOneResult at 0x1f3417e4d88>"
      ]
     },
     "execution_count": 74,
     "metadata": {},
     "output_type": "execute_result"
    }
   ],
   "source": [
    "#Insert the data into the collection\n",
    "collection.insert_one(response_cities)"
   ]
  },
  {
   "cell_type": "code",
   "execution_count": 75,
   "id": "c31f0dee",
   "metadata": {},
   "outputs": [],
   "source": [
    "client.close()"
   ]
  },
  {
   "cell_type": "code",
   "execution_count": null,
   "id": "6b8fca35",
   "metadata": {},
   "outputs": [],
   "source": []
  }
 ],
 "metadata": {
  "kernelspec": {
   "display_name": "PythonData",
   "language": "python",
   "name": "pythondata"
  },
  "language_info": {
   "codemirror_mode": {
    "name": "ipython",
    "version": 3
   },
   "file_extension": ".py",
   "mimetype": "text/x-python",
   "name": "python",
   "nbconvert_exporter": "python",
   "pygments_lexer": "ipython3",
   "version": "3.7.7"
  }
 },
 "nbformat": 4,
 "nbformat_minor": 5
}
