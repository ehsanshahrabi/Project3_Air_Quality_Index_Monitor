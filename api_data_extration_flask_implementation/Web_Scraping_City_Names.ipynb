{
 "cells": [
  {
   "cell_type": "code",
   "execution_count": 1,
   "id": "53c9ed71",
   "metadata": {},
   "outputs": [],
   "source": [
    "import requests\n",
    "from bs4 import BeautifulSoup\n",
    "import pandas as pd\n",
    "from splinter import Browser\n",
    "from flask_pymongo import PyMongo\n",
    "import flask\n",
    "#Launch the browser\n",
    "#browser = Browser('chrome')\n"
   ]
  },
  {
   "cell_type": "code",
   "execution_count": 2,
   "id": "c3f91158",
   "metadata": {},
   "outputs": [],
   "source": [
    "# Send a GET request to the website\n",
    "url = \"https://aqicn.org/city/all/\"\n",
    "\n",
    "response = requests.get(url)\n",
    "\n",
    "# Send the browser to the URL\n",
    "#browser.visit(url)\n",
    "\n",
    "# Save the HTML from the browser\n",
    "#html = browser.html\n",
    "\n",
    "# Create a BeautifulSoup object from the HTML\n",
    "#soup = BeautifulSoup(html, 'html.parser')"
   ]
  },
  {
   "cell_type": "code",
   "execution_count": 3,
   "id": "1f0c6834",
   "metadata": {},
   "outputs": [],
   "source": [
    "# Create a BeautifulSoup object to parse the HTML content\n",
    "soup = BeautifulSoup(response.content, \"html.parser\")\n"
   ]
  },
  {
   "cell_type": "code",
   "execution_count": 4,
   "id": "7085e017",
   "metadata": {},
   "outputs": [],
   "source": [
    "container = soup.find(\"div\", class_=\"main-cities\")\n"
   ]
  },
  {
   "cell_type": "code",
   "execution_count": 5,
   "id": "817bed53",
   "metadata": {},
   "outputs": [],
   "source": [
    "city_elements = container.find_all(\"a\")"
   ]
  },
  {
   "cell_type": "code",
   "execution_count": 6,
   "id": "8e4b201f",
   "metadata": {},
   "outputs": [],
   "source": [
    "cities = [city_element.text.strip() for city_element in city_elements]"
   ]
  },
  {
   "cell_type": "code",
   "execution_count": 7,
   "id": "a6cc02d4",
   "metadata": {},
   "outputs": [],
   "source": [
    "cities_df = pd.DataFrame(cities, columns=[\"City Name\"])"
   ]
  },
  {
   "cell_type": "code",
   "execution_count": 8,
   "id": "567c6ed0",
   "metadata": {},
   "outputs": [
    {
     "data": {
      "text/html": [
       "<div>\n",
       "<style scoped>\n",
       "    .dataframe tbody tr th:only-of-type {\n",
       "        vertical-align: middle;\n",
       "    }\n",
       "\n",
       "    .dataframe tbody tr th {\n",
       "        vertical-align: top;\n",
       "    }\n",
       "\n",
       "    .dataframe thead th {\n",
       "        text-align: right;\n",
       "    }\n",
       "</style>\n",
       "<table border=\"1\" class=\"dataframe\">\n",
       "  <thead>\n",
       "    <tr style=\"text-align: right;\">\n",
       "      <th></th>\n",
       "      <th>City Name</th>\n",
       "    </tr>\n",
       "  </thead>\n",
       "  <tbody>\n",
       "    <tr>\n",
       "      <th>0</th>\n",
       "      <td>Shanghai (上海)</td>\n",
       "    </tr>\n",
       "    <tr>\n",
       "      <th>1</th>\n",
       "      <td>Beijing (北京)</td>\n",
       "    </tr>\n",
       "    <tr>\n",
       "      <th>2</th>\n",
       "      <td>Tianjin (天津)</td>\n",
       "    </tr>\n",
       "    <tr>\n",
       "      <th>3</th>\n",
       "      <td>Guangzhou (广州市)</td>\n",
       "    </tr>\n",
       "    <tr>\n",
       "      <th>4</th>\n",
       "      <td>Shenzhen (深圳)</td>\n",
       "    </tr>\n",
       "    <tr>\n",
       "      <th>...</th>\n",
       "      <td>...</td>\n",
       "    </tr>\n",
       "    <tr>\n",
       "      <th>528</th>\n",
       "      <td>Addis Ababa (አዲስ አበባ)</td>\n",
       "    </tr>\n",
       "    <tr>\n",
       "      <th>529</th>\n",
       "      <td>Nairobi</td>\n",
       "    </tr>\n",
       "    <tr>\n",
       "      <th>530</th>\n",
       "      <td>Kampala (كامبالا)</td>\n",
       "    </tr>\n",
       "    <tr>\n",
       "      <th>531</th>\n",
       "      <td>Algiers (الجزائر)</td>\n",
       "    </tr>\n",
       "    <tr>\n",
       "      <th>532</th>\n",
       "      <td>Bamako (Bamakɔ)</td>\n",
       "    </tr>\n",
       "  </tbody>\n",
       "</table>\n",
       "<p>533 rows × 1 columns</p>\n",
       "</div>"
      ],
      "text/plain": [
       "                 City Name\n",
       "0            Shanghai (上海)\n",
       "1             Beijing (北京)\n",
       "2             Tianjin (天津)\n",
       "3          Guangzhou (广州市)\n",
       "4            Shenzhen (深圳)\n",
       "..                     ...\n",
       "528  Addis Ababa (አዲስ አበባ)\n",
       "529                Nairobi\n",
       "530      Kampala (كامبالا)\n",
       "531      Algiers (الجزائر)\n",
       "532        Bamako (Bamakɔ)\n",
       "\n",
       "[533 rows x 1 columns]"
      ]
     },
     "execution_count": 8,
     "metadata": {},
     "output_type": "execute_result"
    }
   ],
   "source": [
    "cities_df"
   ]
  },
  {
   "cell_type": "code",
   "execution_count": 9,
   "id": "50f84150",
   "metadata": {},
   "outputs": [
    {
     "name": "stdout",
     "output_type": "stream",
     "text": [
      "<class 'pandas.core.frame.DataFrame'>\n",
      "RangeIndex: 533 entries, 0 to 532\n",
      "Data columns (total 1 columns):\n",
      " #   Column     Non-Null Count  Dtype \n",
      "---  ------     --------------  ----- \n",
      " 0   City Name  533 non-null    object\n",
      "dtypes: object(1)\n",
      "memory usage: 4.3+ KB\n"
     ]
    }
   ],
   "source": [
    "cities_df.info()"
   ]
  },
  {
   "cell_type": "code",
   "execution_count": 10,
   "id": "8b0448ea",
   "metadata": {},
   "outputs": [
    {
     "ename": "NameError",
     "evalue": "name 'df' is not defined",
     "output_type": "error",
     "traceback": [
      "\u001b[1;31m---------------------------------------------------------------------------\u001b[0m",
      "\u001b[1;31mNameError\u001b[0m                                 Traceback (most recent call last)",
      "\u001b[1;32m~\\AppData\\Local\\Temp\\ipykernel_20920\\2946666465.py\u001b[0m in \u001b[0;36m<module>\u001b[1;34m\u001b[0m\n\u001b[0;32m      1\u001b[0m \u001b[1;31m#Removing parenthesis form the City Name column\u001b[0m\u001b[1;33m\u001b[0m\u001b[1;33m\u001b[0m\u001b[1;33m\u001b[0m\u001b[0m\n\u001b[1;32m----> 2\u001b[1;33m \u001b[0mcities_df\u001b[0m\u001b[1;33m[\u001b[0m\u001b[1;34m'City Name'\u001b[0m\u001b[1;33m]\u001b[0m \u001b[1;33m=\u001b[0m \u001b[0mdf\u001b[0m\u001b[1;33m[\u001b[0m\u001b[1;34m'City Name'\u001b[0m\u001b[1;33m]\u001b[0m\u001b[1;33m.\u001b[0m\u001b[0mstr\u001b[0m\u001b[1;33m.\u001b[0m\u001b[0mreplace\u001b[0m\u001b[1;33m(\u001b[0m\u001b[1;34mr'\\s+\\(.*\\)'\u001b[0m\u001b[1;33m,\u001b[0m \u001b[1;34m''\u001b[0m\u001b[1;33m,\u001b[0m \u001b[0mregex\u001b[0m\u001b[1;33m=\u001b[0m\u001b[1;32mTrue\u001b[0m\u001b[1;33m)\u001b[0m\u001b[1;33m\u001b[0m\u001b[1;33m\u001b[0m\u001b[0m\n\u001b[0m",
      "\u001b[1;31mNameError\u001b[0m: name 'df' is not defined"
     ]
    }
   ],
   "source": [
    "#Removing parenthesis form the City Name column\n",
    "cities_df['City Name'] = df['City Name'].str.replace(r'\\s+\\(.*\\)', '', regex=True)"
   ]
  },
  {
   "cell_type": "code",
   "execution_count": 11,
   "id": "599181a1",
   "metadata": {},
   "outputs": [
    {
     "data": {
      "text/html": [
       "<div>\n",
       "<style scoped>\n",
       "    .dataframe tbody tr th:only-of-type {\n",
       "        vertical-align: middle;\n",
       "    }\n",
       "\n",
       "    .dataframe tbody tr th {\n",
       "        vertical-align: top;\n",
       "    }\n",
       "\n",
       "    .dataframe thead th {\n",
       "        text-align: right;\n",
       "    }\n",
       "</style>\n",
       "<table border=\"1\" class=\"dataframe\">\n",
       "  <thead>\n",
       "    <tr style=\"text-align: right;\">\n",
       "      <th></th>\n",
       "      <th>City Name</th>\n",
       "    </tr>\n",
       "  </thead>\n",
       "  <tbody>\n",
       "    <tr>\n",
       "      <th>0</th>\n",
       "      <td>Shanghai (上海)</td>\n",
       "    </tr>\n",
       "    <tr>\n",
       "      <th>1</th>\n",
       "      <td>Beijing (北京)</td>\n",
       "    </tr>\n",
       "    <tr>\n",
       "      <th>2</th>\n",
       "      <td>Tianjin (天津)</td>\n",
       "    </tr>\n",
       "    <tr>\n",
       "      <th>3</th>\n",
       "      <td>Guangzhou (广州市)</td>\n",
       "    </tr>\n",
       "    <tr>\n",
       "      <th>4</th>\n",
       "      <td>Shenzhen (深圳)</td>\n",
       "    </tr>\n",
       "    <tr>\n",
       "      <th>...</th>\n",
       "      <td>...</td>\n",
       "    </tr>\n",
       "    <tr>\n",
       "      <th>528</th>\n",
       "      <td>Addis Ababa (አዲስ አበባ)</td>\n",
       "    </tr>\n",
       "    <tr>\n",
       "      <th>529</th>\n",
       "      <td>Nairobi</td>\n",
       "    </tr>\n",
       "    <tr>\n",
       "      <th>530</th>\n",
       "      <td>Kampala (كامبالا)</td>\n",
       "    </tr>\n",
       "    <tr>\n",
       "      <th>531</th>\n",
       "      <td>Algiers (الجزائر)</td>\n",
       "    </tr>\n",
       "    <tr>\n",
       "      <th>532</th>\n",
       "      <td>Bamako (Bamakɔ)</td>\n",
       "    </tr>\n",
       "  </tbody>\n",
       "</table>\n",
       "<p>533 rows × 1 columns</p>\n",
       "</div>"
      ],
      "text/plain": [
       "                 City Name\n",
       "0            Shanghai (上海)\n",
       "1             Beijing (北京)\n",
       "2             Tianjin (天津)\n",
       "3          Guangzhou (广州市)\n",
       "4            Shenzhen (深圳)\n",
       "..                     ...\n",
       "528  Addis Ababa (አዲስ አበባ)\n",
       "529                Nairobi\n",
       "530      Kampala (كامبالا)\n",
       "531      Algiers (الجزائر)\n",
       "532        Bamako (Bamakɔ)\n",
       "\n",
       "[533 rows x 1 columns]"
      ]
     },
     "execution_count": 11,
     "metadata": {},
     "output_type": "execute_result"
    }
   ],
   "source": [
    "cities_df"
   ]
  },
  {
   "cell_type": "code",
   "execution_count": 12,
   "id": "c2583780",
   "metadata": {},
   "outputs": [],
   "source": [
    "cities_df.to_csv(\"cityname.csv\", index = False)"
   ]
  },
  {
   "cell_type": "code",
   "execution_count": 13,
   "id": "d7c4b7dd",
   "metadata": {},
   "outputs": [],
   "source": [
    "cities_list = cities_df[\"City Name\"].tolist()"
   ]
  },
  {
   "cell_type": "code",
   "execution_count": 14,
   "id": "1561d8dc",
   "metadata": {},
   "outputs": [
    {
     "name": "stdout",
     "output_type": "stream",
     "text": [
      "['Shanghai (上海)', 'Beijing (北京)', 'Tianjin (天津)', 'Guangzhou (广州市)', 'Shenzhen (深圳)', 'Wuhan (武汉市)', 'Dongguan (东莞)', 'Chongqing (重庆市)', 'Chengdu (成都)', 'Nanjing (南京)', 'Taipei (Pan-ch’iao)', 'Kaohsiung (高雄)', 'Taichung (Taizhong Shi)', 'tainan (臺南)', 'banqiao (Fan-ch’iao)', 'hsinchu (Xinzhu)', 'taoyuan-city', 'Keelung (Ke-lâng-chhī)', 'Hong Kong (香港)', 'Macao (澳門)', 'Hanyang (서울)', 'Busan (부산)', 'Incheon (인천)', 'Daejeon (대전)', 'Ulsan (울산)', 'Daegu (대구)', 'Gwangju (광주)', 'Suwon (수원)', 'Goyang (고양)', 'Seongnam (성남)', 'Edo (東京)', 'Yokohama (よこはまし)', 'Osaka (大阪市)', 'Nagoya (名古屋)', 'Sapporo (さっぽろし)', 'Kobe (こうべし)', 'Kyoto (京都市)', 'Fukuoka (ふくおかし)', 'Kawasaki (川崎市)', 'saitama', 'Moscow (Москва)', 'Krasnoyarsk (Красноярск)', 'Kaliningrad (Калининград)', 'Leningrad (Ленинград)', 'Novo-Nikolaevsk (Новониколаевск)', 'Nizhniy Novgorod (Горький)', 'Chelyabinsk (Челябинск)', 'Ufa (Уфа)', 'Dhaka (ঢাকা)', 'Kathmandu (काठमाडौं)', 'Pokhara (पोखरा)', 'Patan', 'biratnagar', 'Birgunj', 'dharan-bazar', 'Bharatpur (भरतपुर)', 'Bombay (बम्बई)', 'Delhi (दिल्ली)', 'Bangalore (बंगलौर)', 'Calcutta (Kolkata)', 'Chennai (चेन्नई)', 'Ahmedabad (अहमदाबाद)', 'Hyderabad (हैदराबाद)', 'Pune (पुणे)', 'Kanpur (कानपुर)', 'Bangkok (กรุงเทพ)', 'mueang-samut-prakan (สมุทรปราการ)', 'Nonthaburi (เทศบาลนครนนทบุรี)', 'chon-buri (ชลบุรี)', 'Nakhon Ratchasima (นครราชสีมา)', 'Chiangmai (แม่ริม เชียงใหม่)', 'Hat Yai (หาดใหญ่)', 'Pak Kret (ปากเกร็ด)', 'si-racha (ศรีราชา)', 'Amphoe Phra Pradaeng (พระประแดง)', 'Lampang (ลำปาง)', 'surin', 'Vientiane (ວຽງຈັນ)', 'Rangoon (Yangon)', 'Kota Bharu (哥打巴鲁)', 'Kuala Lumpur (吉隆坡)', 'klang', 'kampung-baru-subang', 'Johor Bahru (新山)', 'Subang Jaya (梳邦再也)', 'Ipoh (怡保)', 'Kuching (古晉)', 'Ho Chi Minh City (Sài Gòn)', 'Hanoi (Hà Nội)', 'Da Nang (Đà Nẵng)', 'Haiphong (Hải Phòng)', 'bien-hoa', 'Huế (Hué)', 'Nha Trang (芽莊市)', 'Bandar Seri Begawan', 'City of Manila (Maynila)', 'Jakarta (Djakarta)', 'Medan (Kota Medan)', 'Bekasi (Kutha Bekasi)', 'Palembang (Kota Palembang)', 'Tangerang (Kota Tangerang)', 'south-tangerang (Tangerang Selatan)', 'Colombo (කොළඹ)', 'galkissa', 'moratuwa', 'Negombo (මීගමුව)', 'pita-kotte', 'Kotte (கோட்டே)', 'Astana', 'Almaty', 'Dushanbe', 'vahdat', 'tursunzoda', 'Bishkek', 'Tashkent', 'Phnom Penh (ភ្នំកំពង់ត្រាច)', 'Montreal (Montréal)', 'Toronto', 'Vancouver', 'Calgary', 'Ottawa (ᐊᑐᕚ/atavaa)', 'Edmonton', 'Mississauga', 'north-york', 'Winnipeg', 'scarborough', 'Auckland (Tāmaki-makau-rau)', 'Wellington (Te Whanga-nui-a-Tara)', 'Christchurch (Ōtautahi)', 'Manukau', 'waitakere', 'North Shore', 'Hamilton (Kirikiriroa)', 'Dunedin (Ōtepoti)', 'Lower Hutt (Awakairangi)', 'Syd', 'Melbourne', 'Brisbane', 'Perth', 'Adelaide', 'Gold', 'Canberra', 'Newcastle', 'Wollongong', 'Logan', 'Big Apple (Nueva York)', 'Big Apple (Nueva York)', 'LA (El Pueblo de Nuestra Señora de los Ángeles de Porciúncula)', 'Chicago (Kikako)', 'Borough of Brooklyn (Brooklyn)', 'borough-of-queens', 'houston (Houston)', 'Philadelphia (Filadelfia)', 'manhattan', 'Phoenix (Pēniki)', 'Borough of Bronx', 'Lima (Limaq)', 'Callao (El Callao)', 'laventille', 'Santiago (Santiago de Chile)', 'puente-alto', 'Antofagasta', 'Viña del Mar', 'Valparaíso', 'Talcahuano', 'san-bernardo', 'temuco (Temuco)', 'Iquique', 'Concepción', 'São Paulo (Sampa)', 'Mexico City (Ciudad de Méjico)', 'iztapalapa', 'Ecatepec de Morelos (Ecatepec)', 'Guadalajara', 'Puebla (Puebla de Zaragoza)', 'Ciudad Juárez', 'Tijuana', 'Ciudad Neza (Cd. Neza)', 'Bogotá', 'Santiago de Cali (Cali)', 'Medellín', 'Willemstad', 'sint-michiel-liber', 'barber', 'dorp-soto', 'newport', 'sabana-westpunt', 'dorp-sint-willebrordus', 'lagun', 'Quito', 'Cuenca', 'Buenos Aires (Baires)', 'San Salvador', 'San Juan', 'Guatemala City (Ciudad de Guatemala)', 'San José', 'Paris (Lutèce)', 'Marseille (Marselye)', 'Lyon (Liyon)', 'Toulouse (Tolosa)', 'Nice (Nisa)', 'Nantes (Naoned)', 'Strasbourg (Strasbôrg)', 'Montpellier (Montpelyiér)', 'Bordeaux (Bordôx)', 'Lille (Lila)', 'Tallinn (Таллин)', 'Tartu (Тарту)', 'Narva (Нарва)', 'Kohtla-Järve (Кохтла-Ярве)', 'rakvere (Rakvere_vald)', 'Sillamäe (Силламяэ)', 'Maardu (Маарду)', 'Kuressaare (Курессааре)', 'Madrid (La Villa y Corte de Madrid)', 'Barcelona', 'Valencia (València)', 'Seville (Sevilla)', 'Saragossa (Zaragosa)', 'Málaga (Màlaga)', 'Murcia (Ciutat de Múrcia)', 'Palma de Mallorca (Palma)', 'Las Palmas de Gran Canaria (Las Palmas de G.C.)', 'bilbao (Bilbao)', 'City of London (Llundain)', 'city-of-london (Dinas Llundain)', 'Zurich (Zuerich)', 'Geneva (Genf)', 'Basel (Bâle)', 'Bern (Berne)', 'Lausanne (Losanna)', 'Winterthur (Eulachstadt)', 'St. Gallen (Saint-Gall)', 'Lucerne (Luzern)', 'Prague (Praha)', 'Brno', 'Ostrava', 'Pilsen (Plzeň)', 'Olomouc', 'Liberec', 'Budweis (České Budějovice)', 'Hradec Králové', 'Rome (Roma)', 'Milan (Milano)', 'Naples (Napoli)', 'Turin (Torino)', 'Genoa (Genova)', 'Bologna (Bologne)', 'Florence (Firenze)', 'Bratislava (Pozsony)', 'Košice (Kassa)', 'Prešov (Eperjes)', 'Nitra (Nyitra)', 'Žilina (Zsolna)', 'Banská Bystrica (Besztercebánya)', 'Trnava (Nagyszombat)', 'martin (Turócszentmárton)', 'Oslo', 'Bergen (Birgon)', 'Trondheim (Troandin)', 'Stavanger', 'Drammen', 'Fredrikstad', 'Kristiansand', 'Sandnes', 'Vienna (Wien)', 'Graz (Grác)', 'Linz', 'Salzburg', 'Innsbruck', 'Klagenfurt (Celovec)', 'Villach (Beljak)', 'Wels', 'Nicosia (Lefkosía)', 'Limassol (Lemesós)', 'Larnaca (Lárnaka)', 'Famagusta (Ammóchostos)', 'Paphos (Παφος)', 'Keryneia (Kerýneia)', 'Protaras', 'pergamos', 'Warsaw (Warszawa)', 'Łódź', 'Krakow (Kraków)', 'Wrocław', 'poznan', 'Gdańsk', 'Szczecin', 'Bydgoszcz', 'Lublin', 'Katowice', 'Brussels (Brussel)', 'Antwerp (Antwerpen)', 'Ghent (Gent)', 'Charleroi', 'Liège (Luik)', 'Bruges (Brugge)', 'Namur (Namen)', 'Leuven (Louvain)', 'Amsterdam', 'Rotterdam', 'Hague (Den Haag)', 'Utrecht (Utert)', 'Eindhoven', 'Tilburg (Tilburch)', 'Groningen (Grins)', 'Almere', 'Breda', 'Nijmegen (Nymwegen)', 'Copenhagen (København)', 'frederiksberg (Frederiksberg Kommune)', 'Vilnius (Vilniaus miestas)', 'Kaunas (Каунас)', 'Klaipėda (Клайпеда)', 'Šiauliai (Шяуляй)', 'dainava-kaunas', 'eiguliai', 'Budapest', 'Debrecen', 'Miskolc', 'szeged', 'Pécs', 'budapest-xi.-kerulet', 'budapest-iii.-kerulet', 'budapest-xiv.-kerulet', 'nyiregyhaza', 'Bucharest (București)', 'Iași (Jászvásár)', 'Cluj-Napoca (Kolozsvár)', 'Timişoara (Timișoara)', 'Craiova', 'Braşov (Brașov)', 'Ploieşti (Ploiești)', 'Brăila', 'Dublin (Baile Átha Cliath)', 'zagreb---centar', 'Zagreb (Загреб)', 'Split (Сплит)', 'Rijeka (Ријека)', 'Osijek (Осијек)', 'Zadar (Задар)', 'Slavonski Brod (Славонски Брод)', 'Pula (Пула)', 'Ljubljana', 'Maribor', 'Celje', 'Kranj', 'Velenje (Mestna občina Velenje)', 'Koper', 'Novo Mesto (Novo mesto)', 'Ptuj (Mestna občina Ptuj)', 'Birkirkara', 'qormi', 'Mosta', 'zabbar', 'Saint John', 'fgura', 'zejtun', 'Berlin', 'Hamburg', 'Munich (München)', 'Cologne (Köln)', 'Frankfurt (Frankfurt am Main)', 'Essen', 'Stuttgart', 'Dortmund', 'Duesseldorf (Düsseldorf)', 'Bremen', 'Helsinki (Helsingfors)', 'Espoo (Esbo)', 'Tampere (Tammerfors)', 'Vantaa (Vanda)', 'Turku (Åbo)', 'Oulu (Uleåborg)', 'Lahti (Lahtis)', 'Kuopio', 'Jyvaskyla (Jyväskylä)', 'Pori (Björneborg)', 'Noumea', 'Stockholm (Stockholbma)', 'Goteborg (Göteborg)', 'Malmo (Malmö)', 'Uppsala', 'Västerås', 'Linköping', 'Helsingborg (Hälsingborg)', 'Sofia (София)', 'Plovdiv (Пловдив)', 'Varna (Варна)', 'Burgas (Бургас)', 'Rousse (Русе)', 'Stara Zagora (Стара Загора)', 'Pleven (Плевен)', 'Sliven (Сливен)', 'Belgrade (Београд)', 'Niš', 'Novi Sad (Нови Сад)', 'zemun (Zemun)', 'Kragujevac', 'Čačak', 'Subotica (Szabadka)', 'Leskovac', 'Sarajevo (Сарајево)', 'Banja Luka (Бања Лука)', 'Zenica (Зеница)', 'Tuzla (Тузла)', 'Mostar (Мостар)', 'Bugojno (Бугојно)', 'brcko', 'Prishtina (Приштина)', 'Prizren (Përzeren)', 'Kosovska Mitrovica (Mitrovicë)', 'gjakove (Gjakova)', 'Peć (Peja)', 'Suva Reka (Lumthatë)', 'ferizaj (Ferezaj)', 'glogovac (Drenas)', 'Skopje (Shkupi)', 'Bitola (Битола)', 'Kumanovo (Куманово)', 'Prilep (Прилеп)', 'Tetovo (Тетово)', 'cair (Чаир)', 'kisela-voda (Кисела Вода)', 'Veles (Велес)', 'Podgorica (Titograd)', 'niksic (Никшић)', 'Herceg Novi (Херцег Нови)', 'Pljevlja (Пљевља)', 'Budva (Будва)', 'Bar (Бар)', 'Bijelo Polje (Oпштина Бијело Поље)', 'Cetinje (Цетиње)', 'Reykjavik (Reykjavík)', 'Kopavogur (Kópavog)', 'Hafnarfirdi (Hafnarfirði)', 'Akureyri (Akureyrar)', 'Garðabaer (Garðabæ)', 'Mosfellsbaer (Mosfellsbæ)', 'Akranes (Akraneskaupstaður)', 'selfoss (Selfoss)', 'Lisbon (Lisboa)', 'Porto', 'Amadora', 'Braga', 'Setúbal', 'Queluz', 'Funchal', 'Athens (Athínai)', 'Kiev (Київ)', 'Dnipro (Jekatierinosław)', 'Odesa (Одеса)', 'Alexandrovsk (Zaporižžja)', 'Lviv (Львів)', 'Kryvyi Rih (Кривий Ріг)', 'Mariupol (Маріуполь)', 'ivano-frankivsk (Івано-Франківськ)', 'Tbilisi', 'Kutaisi', 'Batumi', 'Rustavi', 'Haifa (H̱efa)', 'Tel Aviv (תל אביב-יפו)', 'Ariel (אֵילִיָּה קַפִּיטוֹלִינָה)', 'West Jerusalem (מערב ירושלים)', 'Ashdod (אשדוד)', 'Rishon LeZion (ראשון לציון)', 'Petach Tikva (פתח תקוה)', 'Beersheba (באר שבע)', 'Ankara (Enqere)', 'Byzantium (İstanbul)', 'Izmir (İzmir)', 'Bursa', 'Adana (Edene)', 'Gaziantep (Dîlok)', 'Konya (Qonye)', 'cankaya', 'Antalya', 'Tehran (تِهران)', 'Mashhad (مشهد)', 'Isfahan (Eşfahān)', 'Karaj (قَصَبِهِ كَرَج)', 'Tabriz (Tabrīz)', 'Shiraz (Shīrāz)', 'Qom (غُم)', 'Ahvaz (Ahvāz)', 'Dubai (دبي)', 'al-sohar (Şuḩār)', 'Saham', 'Manama (اَلْمَنَامَة)', 'Al Muharraq (اَلْمُحَرَّق)', 'dar-kulayb (دَار كُلَيْب)', 'sitrah (سِتْرَة)', 'Al Ahmadi (اَلأَحْمَدِي)', 'Kuwait (اَلْكُوَيْت)', 'Amman (`Ammān)', 'Zarqa (الزرقاء)', 'Irbid (إربد)', 'russeifa', 'Wadi Al Seer', 'Adjlun (‘Ajlūn)', 'Aqaba (العقبة)', 'Madaba (مادبا)', 'Baghdad (بغداد)', 'Basra (البصرة)', 'Abu Ghraib (أبو غريب)', 'Jeddah (جدة)', 'Medina (المدينة)', 'Riyadh (Ar Riyāḑ)', 'Mecca (مكة)', 'sultanah', 'Dammam (الدمام)', 'Taif (Aţ Ţā’if)', 'tabuk (تبوك)', 'Karachi (کراچی)', 'Lahore (لاھور)', 'Rawalpindi (راولپنڈی)', 'Peshawar (پشاور)', 'Kabul (كابل)', 'Ashgabat (Aşgabat)', 'Cape Town (iKapa)', 'Durban (ITheku)', \"Jo'anna (EGoli)\", 'Soweto', 'Pretoria (IPitoli)', 'Port Elizabeth (Ibhayi)', 'Pietermaritzburg', 'benoni', 'Addis Ababa (አዲስ አበባ)', 'Nairobi', 'Kampala (كامبالا)', 'Algiers (الجزائر)', 'Bamako (Bamakɔ)']\n"
     ]
    }
   ],
   "source": [
    "print(cities_list)"
   ]
  },
  {
   "cell_type": "code",
   "execution_count": 15,
   "id": "dc38e8ab",
   "metadata": {},
   "outputs": [],
   "source": [
    "import json\n",
    "import time"
   ]
  },
  {
   "cell_type": "code",
   "execution_count": null,
   "id": "55a510b9",
   "metadata": {},
   "outputs": [],
   "source": [
    "\n",
    "base_url_cities_0 = \"http://api.waqi.info/feed/\"\n",
    "base_url_cities_1 = \"/?token=cfec51e63370e90b7880950705e8add14a2602b6\"\n",
    "base_url_citydata_0 = \"http://api.airvisual.com/v2/city?city=\"\n",
    "\n",
    "for x in cities_list:\n",
    "    base_url_cities = base_url_cities_0 + x + base_url_cities_1\n",
    "    params = {\n",
    "        \"param\":\"pm25\",\n",
    "        \"value\":\"true\"\n",
    "        \n",
    "    }\n",
    "    response_cities = requests.get(base_url_cities, params=params).json()\n",
    "#     print(json.dumps(response_cities, indent=4))\n",
    "    "
   ]
  },
  {
   "cell_type": "code",
   "execution_count": 17,
   "id": "79ceea86",
   "metadata": {},
   "outputs": [],
   "source": [
    "#Storage the data into a MongoDB database\n",
    "from pymongo import MongoClient\n"
   ]
  },
  {
   "cell_type": "code",
   "execution_count": 18,
   "id": "fbdd629a",
   "metadata": {},
   "outputs": [],
   "source": [
    "#Establish the MongoDB server\n",
    "client = MongoClient('mongodb://localhost:27017/')\n"
   ]
  },
  {
   "cell_type": "code",
   "execution_count": 19,
   "id": "ad064af9",
   "metadata": {},
   "outputs": [],
   "source": [
    "#Create a database\n",
    "db = client['major_cities_airquality']\n"
   ]
  },
  {
   "cell_type": "code",
   "execution_count": 20,
   "id": "85a3141e",
   "metadata": {},
   "outputs": [],
   "source": [
    "# Create a collection\n",
    "collection = db['major_cities_airquality']\n"
   ]
  },
  {
   "cell_type": "code",
   "execution_count": 21,
   "id": "655a0e30",
   "metadata": {},
   "outputs": [
    {
     "ename": "TypeError",
     "evalue": "string indices must be integers",
     "output_type": "error",
     "traceback": [
      "\u001b[1;31m---------------------------------------------------------------------------\u001b[0m",
      "\u001b[1;31mTypeError\u001b[0m                                 Traceback (most recent call last)",
      "\u001b[1;32m~\\AppData\\Local\\Temp\\ipykernel_20920\\3891592276.py\u001b[0m in \u001b[0;36m<module>\u001b[1;34m\u001b[0m\n\u001b[0;32m      1\u001b[0m \u001b[1;31m#Prepare the data to be inserted into the collection\u001b[0m\u001b[1;33m\u001b[0m\u001b[1;33m\u001b[0m\u001b[1;33m\u001b[0m\u001b[0m\n\u001b[0;32m      2\u001b[0m data = {\n\u001b[1;32m----> 3\u001b[1;33m     \u001b[1;34m'aqi'\u001b[0m\u001b[1;33m:\u001b[0m \u001b[0mresponse_cities\u001b[0m\u001b[1;33m[\u001b[0m\u001b[1;34m'data'\u001b[0m\u001b[1;33m]\u001b[0m\u001b[1;33m[\u001b[0m\u001b[1;34m'aqi'\u001b[0m\u001b[1;33m]\u001b[0m\u001b[1;33m,\u001b[0m\u001b[1;33m\u001b[0m\u001b[1;33m\u001b[0m\u001b[0m\n\u001b[0m\u001b[0;32m      4\u001b[0m     \u001b[1;34m'idx'\u001b[0m\u001b[1;33m:\u001b[0m \u001b[0mresponse_cities\u001b[0m\u001b[1;33m[\u001b[0m\u001b[1;34m'data'\u001b[0m\u001b[1;33m]\u001b[0m\u001b[1;33m[\u001b[0m\u001b[1;34m'idx'\u001b[0m\u001b[1;33m]\u001b[0m\u001b[1;33m,\u001b[0m\u001b[1;33m\u001b[0m\u001b[1;33m\u001b[0m\u001b[0m\n\u001b[0;32m      5\u001b[0m     \u001b[1;34m'attributions'\u001b[0m\u001b[1;33m:\u001b[0m \u001b[0mresponse_cities\u001b[0m\u001b[1;33m[\u001b[0m\u001b[1;34m'data'\u001b[0m\u001b[1;33m]\u001b[0m\u001b[1;33m[\u001b[0m\u001b[1;34m'attributions'\u001b[0m\u001b[1;33m]\u001b[0m\u001b[1;33m,\u001b[0m\u001b[1;33m\u001b[0m\u001b[1;33m\u001b[0m\u001b[0m\n",
      "\u001b[1;31mTypeError\u001b[0m: string indices must be integers"
     ]
    }
   ],
   "source": [
    "#Prepare the data to be inserted into the collection\n",
    "data = {\n",
    "    'aqi': response_cities['data']['aqi'],\n",
    "    'idx': response_cities['data']['idx'],\n",
    "    'attributions': response_cities['data']['attributions'],\n",
    "    'city_name': response_cities['data']['city']['name'],\n",
    "    'dominant_pol': response_cities['data']['dominentpol'],\n",
    "    'iaqi': response_cities['data']['iaqi'],\n",
    "    'time': response_cities['data']['time'],\n",
    "    'forecast': response_cities['data']['forecast']\n",
    "    \n",
    "}\n"
   ]
  },
  {
   "cell_type": "code",
   "execution_count": 22,
   "id": "2b268995",
   "metadata": {},
   "outputs": [
    {
     "ename": "NameError",
     "evalue": "name 'data' is not defined",
     "output_type": "error",
     "traceback": [
      "\u001b[1;31m---------------------------------------------------------------------------\u001b[0m",
      "\u001b[1;31mNameError\u001b[0m                                 Traceback (most recent call last)",
      "\u001b[1;32m~\\AppData\\Local\\Temp\\ipykernel_20920\\1540412736.py\u001b[0m in \u001b[0;36m<module>\u001b[1;34m\u001b[0m\n\u001b[0;32m      1\u001b[0m \u001b[1;31m#Insert the data into the collection\u001b[0m\u001b[1;33m\u001b[0m\u001b[1;33m\u001b[0m\u001b[1;33m\u001b[0m\u001b[0m\n\u001b[1;32m----> 2\u001b[1;33m \u001b[0mcollection\u001b[0m\u001b[1;33m.\u001b[0m\u001b[0minsert_one\u001b[0m\u001b[1;33m(\u001b[0m\u001b[0mdata\u001b[0m\u001b[1;33m)\u001b[0m\u001b[1;33m\u001b[0m\u001b[1;33m\u001b[0m\u001b[0m\n\u001b[0m",
      "\u001b[1;31mNameError\u001b[0m: name 'data' is not defined"
     ]
    }
   ],
   "source": [
    "#Insert the data into the collection\n",
    "collection.insert_one(data)\n"
   ]
  },
  {
   "cell_type": "code",
   "execution_count": 23,
   "id": "27e7b7a4",
   "metadata": {},
   "outputs": [],
   "source": [
    "app = flask.Flask(__name__)"
   ]
  },
  {
   "cell_type": "code",
   "execution_count": null,
   "id": "51ce1bad",
   "metadata": {},
   "outputs": [],
   "source": [
    "client.close()\n"
   ]
  }
 ],
 "metadata": {
  "kernelspec": {
   "display_name": "PythonData",
   "language": "python",
   "name": "pythondata"
  },
  "language_info": {
   "codemirror_mode": {
    "name": "ipython",
    "version": 3
   },
   "file_extension": ".py",
   "mimetype": "text/x-python",
   "name": "python",
   "nbconvert_exporter": "python",
   "pygments_lexer": "ipython3",
   "version": "3.7.7"
  }
 },
 "nbformat": 4,
 "nbformat_minor": 5
}
